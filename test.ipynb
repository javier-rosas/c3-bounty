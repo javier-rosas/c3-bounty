{
 "cells": [
  {
   "cell_type": "markdown",
   "metadata": {},
   "source": [
    "### Imports"
   ]
  },
  {
   "cell_type": "code",
   "execution_count": null,
   "metadata": {},
   "outputs": [],
   "source": [
    "import json\n",
    "from algosdk import account, mnemonic\n",
    "from algosdk.v2client import algod\n",
    "from algosdk.future import transaction\n",
    "from pyteal import compileTeal, Mode\n",
    "from contract import approval_program, clear_state_program\n",
    "from deployment_functions import *\n",
    "from helper_functions import *"
   ]
  },
  {
   "cell_type": "markdown",
   "metadata": {},
   "source": [
    "### Create Testing Account"
   ]
  },
  {
   "cell_type": "code",
   "execution_count": null,
   "metadata": {},
   "outputs": [],
   "source": [
    "def generate_algorand_keypair():\n",
    "    private_key, address = account.generate_account()\n",
    "    print(\"My address: {}\".format(address))\n",
    "    print(\"My private key: {}\".format(private_key))\n",
    "    print(\"My passphrase: {}\".format(mnemonic.from_private_key(private_key)))    \n",
    "    creator_mnemonic = mnemonic.from_private_key(private_key)\n",
    "\n",
    "    with open(\"credentials.json\", \"r+\") as jsonFile:\n",
    "        data = json.load(jsonFile)\n",
    "\n",
    "        data['test_address'] = address\n",
    "        data[\"test_mnemonic\"] = creator_mnemonic\n",
    "\n",
    "        jsonFile.seek(0)  # bring cursor to the top\n",
    "        json.dump(data, jsonFile, indent = 6)\n",
    "        jsonFile.truncate()\n"
   ]
  },
  {
   "cell_type": "markdown",
   "metadata": {},
   "source": [
    "### Create Testing asset"
   ]
  },
  {
   "cell_type": "code",
   "execution_count": null,
   "metadata": {},
   "outputs": [],
   "source": [
    "def create_asset_wrapper(private_key):\n",
    "    asset_id = create_asset(algod_client, private_key)\n",
    "\n",
    "    with open(\"credentials.json\", \"r+\") as jsonFile:\n",
    "        data = json.load(jsonFile)\n",
    "\n",
    "        data['asset_id'] = asset_id\n",
    "\n",
    "        jsonFile.seek(0)  # bring cursor to the top\n",
    "        json.dump(data, jsonFile, indent = 6)\n",
    "        jsonFile.truncate()\n",
    "        \n"
   ]
  },
  {
   "cell_type": "markdown",
   "metadata": {},
   "source": [
    "### Credentials"
   ]
  },
  {
   "cell_type": "code",
   "execution_count": null,
   "metadata": {},
   "outputs": [],
   "source": [
    "# Opening JSON file\n",
    "f = open('credentials.json')\n",
    " \n",
    "# returns JSON object as a dictionary\n",
    "data = json.load(f)\n",
    " \n",
    "creator_address = data[\"creator_address\"]\n",
    "creator_mnemonic = data[\"creator_mnemonic\"]\n",
    "creator_private_key = mnemonic.to_private_key(creator_mnemonic)\n",
    "app_id = data[\"app_id\"]\n",
    "asset_id = data[\"asset_id\"]\n",
    "application_address = data[\"application_address\"]\n",
    "test_address = data[\"test_address\"]\n",
    "test_mnemonic = data[\"test_mnemonic\"]\n",
    "\n",
    "# Closing file\n",
    "f.close()"
   ]
  },
  {
   "cell_type": "markdown",
   "metadata": {},
   "source": [
    "### Initialize Algod Client"
   ]
  },
  {
   "cell_type": "code",
   "execution_count": null,
   "metadata": {},
   "outputs": [],
   "source": [
    "# user declared algod connection parameters. Node must have EnableDeveloperAPI set to true in its config\n",
    "algod_address = \"http://localhost:4001\"\n",
    "algod_token = \"aaaaaaaaaaaaaaaaaaaaaaaaaaaaaaaaaaaaaaaaaaaaaaaaaaaaaaaaaaaaaaaa\"\n",
    "\n",
    "# initialize an algodClient\n",
    "algod_client = algod.AlgodClient(algod_token, algod_address)"
   ]
  },
  {
   "cell_type": "markdown",
   "metadata": {},
   "source": [
    "### Compiling smart contract and declaring schema"
   ]
  },
  {
   "cell_type": "code",
   "execution_count": null,
   "metadata": {},
   "outputs": [],
   "source": [
    "# get PyTeal approval program\n",
    "approval_program_ast = approval_program()\n",
    "# compile program to TEAL assembly\n",
    "approval_program_teal = compileTeal(approval_program_ast, mode=Mode.Application, version=6)\n",
    "# compile program to binary\n",
    "approval_program_compiled = compile_program(algod_client, approval_program_teal)\n",
    "\n",
    "\n",
    "# get PyTeal clear state program\n",
    "clear_state_program_ast = clear_state_program()\n",
    "# compile program to TEAL assembly\n",
    "clear_state_program_teal = compileTeal(clear_state_program_ast, mode=Mode.Application, version=6)\n",
    "# compile program to binary\n",
    "clear_state_program_compiled = compile_program(algod_client, clear_state_program_teal)\n",
    "\n",
    "\n",
    "# declare application state storage (immutable)\n",
    "local_ints = 0\n",
    "local_bytes = 0\n",
    "global_ints = 0\n",
    "global_bytes = 0\n",
    "global_schema = transaction.StateSchema(global_ints, global_bytes)\n",
    "local_schema = transaction.StateSchema(local_ints, local_bytes)"
   ]
  },
  {
   "cell_type": "markdown",
   "metadata": {},
   "source": [
    "### Create the Smart Contract"
   ]
  },
  {
   "cell_type": "code",
   "execution_count": null,
   "metadata": {},
   "outputs": [],
   "source": [
    "def create_app_wrapper():\n",
    "    # create new application\n",
    "    app_id = create_app(\n",
    "        algod_client,\n",
    "        creator_private_key,\n",
    "        approval_program_compiled,\n",
    "        clear_state_program_compiled,\n",
    "        global_schema,\n",
    "        local_schema,\n",
    "    )\n",
    "\n",
    "    with open(\"credentials.json\", \"r+\") as jsonFile:\n",
    "        data = json.load(jsonFile)\n",
    "\n",
    "        data['app_id'] = app_id\n",
    "\n",
    "        jsonFile.seek(0)  # bring cursor to the top\n",
    "        json.dump(data, jsonFile, indent = 6)\n",
    "        jsonFile.truncate()\n",
    "\n"
   ]
  },
  {
   "cell_type": "markdown",
   "metadata": {},
   "source": [
    "### Update the Smart Contract"
   ]
  },
  {
   "cell_type": "code",
   "execution_count": null,
   "metadata": {},
   "outputs": [],
   "source": [
    "def update_app_wrapper():\n",
    "\n",
    "    application_address = update_app(algod_client, \n",
    "                creator_private_key, \n",
    "                app_id, \n",
    "                approval_program_compiled, \n",
    "                clear_state_program_compiled)\n",
    "\n",
    "\n",
    "    with open(\"credentials.json\", \"r+\") as jsonFile:\n",
    "        data = json.load(jsonFile)\n",
    "\n",
    "        data['application_address'] = application_address\n",
    "\n",
    "        jsonFile.seek(0)  # bring cursor to the top\n",
    "        json.dump(data, jsonFile, indent = 6)\n",
    "        jsonFile.truncate()\n",
    "\n",
    "update_app_wrapper()"
   ]
  },
  {
   "cell_type": "markdown",
   "metadata": {},
   "source": [
    "### Opt user into Smart Contract"
   ]
  },
  {
   "cell_type": "code",
   "execution_count": null,
   "metadata": {},
   "outputs": [],
   "source": [
    "if not is_opted_in_app(algod_client, creator_address, app_id):\n",
    "\n",
    "    # opt into application from pool account\n",
    "    result = opt_in_app(algod_client, creator_private_key, app_id)\n",
    "\n",
    "    # print result confirmation transaction confirmation \n",
    "    print_confirmation(result)\n"
   ]
  },
  {
   "cell_type": "markdown",
   "metadata": {},
   "source": [
    "### Call the Smart Contract"
   ]
  },
  {
   "cell_type": "code",
   "execution_count": null,
   "metadata": {},
   "outputs": [],
   "source": [
    "# call application without arguments\n",
    "app_args = [b\"deposit\", asset_id, 1]\n",
    "\n",
    "call_app(algod_client, \n",
    "        creator_private_key, \n",
    "        app_id, \n",
    "        app_args,\n",
    "        rekey_to=application_address,\n",
    "        foreign_assets=[asset_id])\n",
    "\n",
    "print(\"Asset holding for user address: \")\n",
    "print_asset_holding(algod_client, creator_address, asset_id)\n",
    "\n",
    "\n",
    "print(\"Asset holding for smart contract address: \")\n",
    "print_asset_holding(algod_client, application_address, asset_id)"
   ]
  },
  {
   "cell_type": "code",
   "execution_count": null,
   "metadata": {},
   "outputs": [],
   "source": []
  },
  {
   "cell_type": "code",
   "execution_count": null,
   "metadata": {},
   "outputs": [],
   "source": []
  },
  {
   "cell_type": "code",
   "execution_count": null,
   "metadata": {},
   "outputs": [],
   "source": []
  },
  {
   "cell_type": "code",
   "execution_count": null,
   "metadata": {},
   "outputs": [],
   "source": [
    "def transfer_asset():\n",
    "    creator_private_key = mnemonic.to_private_key(creator_mnemonic)\n",
    "    params = algod_client.suggested_params()\n",
    "\n",
    "    # Use the AssetTransferTxn class to transfer assets and opt-in\n",
    "    txn = transaction.AssetTransferTxn(\n",
    "        sender=test_address,\n",
    "        sp=params,\n",
    "        receiver=creator_address,\n",
    "        amt=100_000_000,\n",
    "        index=asset_id)\n",
    "        \n",
    "    stxn = txn.sign(test_user_private_key)\n",
    "       \n",
    "    txid = algod_client.send_transaction(stxn)\n",
    "    print(\"Signed transaction with txID: {}\".format(txid))\n",
    "    # Wait for the transaction to be confirmed\n",
    "    confirmed_txn = wait_for_confirmation(algod_client, txid) \n",
    "    print(\"TXID: \", txid)\n",
    "    print(\"Result confirmed in round: {}\".format(confirmed_txn['confirmed-round']))    \n",
    "\n",
    "    print_asset_holding(algod_client, test_address, asset_id)"
   ]
  },
  {
   "cell_type": "code",
   "execution_count": null,
   "metadata": {},
   "outputs": [],
   "source": []
  },
  {
   "cell_type": "code",
   "execution_count": null,
   "metadata": {},
   "outputs": [],
   "source": []
  }
 ],
 "metadata": {
  "interpreter": {
   "hash": "6b55c0a5c3150624dbd3ee88076bf7518973e6e1ef6a3588902864481ddc3ffc"
  },
  "kernelspec": {
   "display_name": "Python 3.7.9 ('base')",
   "language": "python",
   "name": "python3"
  },
  "language_info": {
   "codemirror_mode": {
    "name": "ipython",
    "version": 3
   },
   "file_extension": ".py",
   "mimetype": "text/x-python",
   "name": "python",
   "nbconvert_exporter": "python",
   "pygments_lexer": "ipython3",
   "version": "3.7.9"
  },
  "orig_nbformat": 4
 },
 "nbformat": 4,
 "nbformat_minor": 2
}
