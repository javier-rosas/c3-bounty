{
 "cells": [
  {
   "cell_type": "markdown",
   "metadata": {},
   "source": [
    "### Imports"
   ]
  },
  {
   "cell_type": "code",
   "execution_count": 1,
   "metadata": {},
   "outputs": [],
   "source": [
    "import json\n",
    "from algosdk import account, mnemonic\n",
    "from algosdk.v2client import algod\n",
    "from algosdk.future import transaction\n",
    "from pyteal import compileTeal, Mode\n",
    "from contract import approval_program, clear_state_program\n",
    "from deployment_functions import *\n",
    "from helper_functions import *"
   ]
  },
  {
   "cell_type": "markdown",
   "metadata": {},
   "source": [
    "### Create Testing Account"
   ]
  },
  {
   "cell_type": "code",
   "execution_count": 2,
   "metadata": {},
   "outputs": [],
   "source": [
    "def generate_algorand_keypair():\n",
    "    test_private_key, test_address = account.generate_account()\n",
    "    print(\"My address: {}\".format(test_address))\n",
    "    print(\"My private key: {}\".format(test_private_key))\n",
    "    print(\"My passphrase: {}\".format(mnemonic.from_private_key(test_private_key)))    \n",
    "    test_mnemonic = mnemonic.from_private_key(test_private_key)\n",
    "\n",
    "    with open(\"credentials.json\", \"r+\") as jsonFile:\n",
    "        data = json.load(jsonFile)\n",
    "\n",
    "        data[\"test_address\"] = test_address\n",
    "        data[\"test_mnemonic\"] = test_mnemonic\n",
    "\n",
    "        jsonFile.seek(0)  # bring cursor to the top\n",
    "        json.dump(data, jsonFile, indent = 6)\n",
    "        jsonFile.truncate()"
   ]
  },
  {
   "cell_type": "markdown",
   "metadata": {},
   "source": [
    "### Initialize Algod Client"
   ]
  },
  {
   "cell_type": "code",
   "execution_count": 3,
   "metadata": {},
   "outputs": [],
   "source": [
    "# user declared algod connection parameters. Node must have EnableDeveloperAPI set to true in its config\n",
    "algod_address = \"http://localhost:4001\"\n",
    "algod_token = \"aaaaaaaaaaaaaaaaaaaaaaaaaaaaaaaaaaaaaaaaaaaaaaaaaaaaaaaaaaaaaaaa\"\n",
    "\n",
    "# initialize an algodClient\n",
    "algod_client = algod.AlgodClient(algod_token, algod_address)"
   ]
  },
  {
   "cell_type": "markdown",
   "metadata": {},
   "source": [
    "### Credentials"
   ]
  },
  {
   "cell_type": "code",
   "execution_count": 4,
   "metadata": {},
   "outputs": [],
   "source": [
    "# Opening JSON file\n",
    "f = open('credentials.json')\n",
    " \n",
    "# returns JSON object as a dictionary\n",
    "data = json.load(f)\n",
    " \n",
    "creator_address = data[\"creator_address\"]\n",
    "creator_mnemonic = data[\"creator_mnemonic\"]\n",
    "creator_private_key = mnemonic.to_private_key(creator_mnemonic)\n",
    "app_id = data[\"app_id\"]\n",
    "asset_id = data[\"asset_id\"]\n",
    "application_address = data[\"application_address\"]\n",
    "test_address = data[\"test_address\"]\n",
    "test_mnemonic = data[\"test_mnemonic\"]\n",
    "test_private_key = mnemonic.to_private_key(test_mnemonic)\n",
    "# Closing file\n",
    "f.close()"
   ]
  },
  {
   "cell_type": "markdown",
   "metadata": {},
   "source": [
    "### Create Testing asset"
   ]
  },
  {
   "cell_type": "code",
   "execution_count": 5,
   "metadata": {},
   "outputs": [],
   "source": [
    "def create_asset_wrapper(private_key):\n",
    "    asset_id = create_asset(algod_client, private_key)\n",
    "\n",
    "    with open(\"credentials.json\", \"r+\") as jsonFile:\n",
    "        data = json.load(jsonFile)\n",
    "\n",
    "        data['asset_id'] = asset_id\n",
    "\n",
    "        jsonFile.seek(0)  # bring cursor to the top\n",
    "        json.dump(data, jsonFile, indent = 6)\n",
    "        jsonFile.truncate()"
   ]
  },
  {
   "cell_type": "markdown",
   "metadata": {},
   "source": [
    "### Compiling smart contract and declaring schema"
   ]
  },
  {
   "cell_type": "code",
   "execution_count": 6,
   "metadata": {},
   "outputs": [],
   "source": [
    "# get PyTeal approval program\n",
    "approval_program_ast = approval_program()\n",
    "# compile program to TEAL assembly\n",
    "approval_program_teal = compileTeal(approval_program_ast, mode=Mode.Application, version=6)\n",
    "# compile program to binary\n",
    "approval_program_compiled = compile_program(algod_client, approval_program_teal)\n",
    "\n",
    "\n",
    "# get PyTeal clear state program\n",
    "clear_state_program_ast = clear_state_program()\n",
    "# compile program to TEAL assembly\n",
    "clear_state_program_teal = compileTeal(clear_state_program_ast, mode=Mode.Application, version=6)\n",
    "# compile program to binary\n",
    "clear_state_program_compiled = compile_program(algod_client, clear_state_program_teal)\n",
    "\n",
    "\n",
    "# declare application state storage (immutable)\n",
    "local_ints = 0\n",
    "local_bytes = 0\n",
    "global_ints = 0\n",
    "global_bytes = 0\n",
    "global_schema = transaction.StateSchema(global_ints, global_bytes)\n",
    "local_schema = transaction.StateSchema(local_ints, local_bytes)"
   ]
  },
  {
   "cell_type": "markdown",
   "metadata": {},
   "source": [
    "### Create the Smart Contract"
   ]
  },
  {
   "cell_type": "code",
   "execution_count": 7,
   "metadata": {},
   "outputs": [],
   "source": [
    "def create_app_wrapper(private_key):\n",
    "    # create new application\n",
    "    app_id = create_app(\n",
    "        algod_client,\n",
    "        private_key,\n",
    "        approval_program_compiled,\n",
    "        clear_state_program_compiled,\n",
    "        global_schema,\n",
    "        local_schema,\n",
    "    )\n",
    "\n",
    "    with open(\"credentials.json\", \"r+\") as jsonFile:\n",
    "        data = json.load(jsonFile)\n",
    "\n",
    "        data['app_id'] = app_id\n",
    "\n",
    "        jsonFile.seek(0)  # bring cursor to the top\n",
    "        json.dump(data, jsonFile, indent = 6)\n",
    "        jsonFile.truncate()"
   ]
  },
  {
   "cell_type": "markdown",
   "metadata": {},
   "source": [
    "### Update the Smart Contract"
   ]
  },
  {
   "cell_type": "code",
   "execution_count": 8,
   "metadata": {},
   "outputs": [
    {
     "name": "stdout",
     "output_type": "stream",
     "text": [
      "Waiting for confirmation...\n",
      "Transaction QLUB4Q2AB2IZYKZG4SNCXEMO3RSIRL26MXXRGYAOEYUI63NVFDHQ confirmed in round 20707585.\n",
      "Application was modified with app_id: 81470745 and with application address: 56IHDC5FJKK6QK2KSXH2WCXNQTUTGMFIC3F5XPHQDWOI6OWMYYOUOIBIX4\n"
     ]
    }
   ],
   "source": [
    "def update_app_wrapper(private_key):\n",
    "\n",
    "    application_address = update_app(algod_client, \n",
    "                                    private_key, \n",
    "                                    app_id, \n",
    "                                    approval_program_compiled, \n",
    "                                    clear_state_program_compiled)\n",
    "\n",
    "\n",
    "    with open(\"credentials.json\", \"r+\") as jsonFile:\n",
    "        data = json.load(jsonFile)\n",
    "\n",
    "        data['application_address'] = application_address\n",
    "\n",
    "        jsonFile.seek(0)  # bring cursor to the top\n",
    "        json.dump(data, jsonFile, indent = 6)\n",
    "        jsonFile.truncate()\n",
    "\n",
    "update_app_wrapper(test_private_key)"
   ]
  },
  {
   "cell_type": "markdown",
   "metadata": {},
   "source": [
    "### Opt user into Smart Contract"
   ]
  },
  {
   "cell_type": "code",
   "execution_count": 9,
   "metadata": {},
   "outputs": [],
   "source": [
    "if not is_opted_in_app(algod_client, test_address, app_id):\n",
    "\n",
    "    # opt into application from pool account\n",
    "    result = opt_in_app(algod_client, test_private_key, app_id)\n",
    "\n",
    "    # print result confirmation transaction confirmation \n",
    "    print_confirmation(result)\n"
   ]
  },
  {
   "cell_type": "markdown",
   "metadata": {},
   "source": [
    "### Call the Smart Contract"
   ]
  },
  {
   "cell_type": "code",
   "execution_count": 10,
   "metadata": {},
   "outputs": [
    {
     "name": "stdout",
     "output_type": "stream",
     "text": [
      "Call from account: HNDUHBASQYQTWKHGQGH7UQCYKA2Y75HKTKK2TL4DBDWO3YAKQMV2Y4BVFE\n",
      "Waiting for confirmation...\n",
      "Transaction OXTG2MDHXTPREBMDDA3QTOUD4FIKICPCTNJ3KKDHTPN2TIW2O7XA confirmed in round 20707587.\n"
     ]
    },
    {
     "data": {
      "text/plain": [
       "{'confirmed-round': 20707587,\n",
       " 'inner-txns': [{'pool-error': '',\n",
       "   'txn': {'txn': {'aamt': 1,\n",
       "     'arcv': '56IHDC5FJKK6QK2KSXH2WCXNQTUTGMFIC3F5XPHQDWOI6OWMYYOUOIBIX4',\n",
       "     'fv': 20707585,\n",
       "     'lv': 20708585,\n",
       "     'rekey': 'HNDUHBASQYQTWKHGQGH7UQCYKA2Y75HKTKK2TL4DBDWO3YAKQMV2Y4BVFE',\n",
       "     'snd': 'HNDUHBASQYQTWKHGQGH7UQCYKA2Y75HKTKK2TL4DBDWO3YAKQMV2Y4BVFE',\n",
       "     'type': 'axfer',\n",
       "     'xaid': 81470512}}}],\n",
       " 'pool-error': '',\n",
       " 'txn': {'sig': 'nJ4rcPLyguQ0MwuE0ozQZzjQOY/0vplCzX75hpxy8Rko8P6hfqdWKtmSHISnwzz5m5aFQOIC8qiQfrxyghdTAA==',\n",
       "  'txn': {'apaa': ['ZGVwb3NpdA==', 'QXNzZXRUeG4=', 'AAAAAAAAAAE='],\n",
       "   'apas': [81470512],\n",
       "   'apid': 81470745,\n",
       "   'fee': 891000,\n",
       "   'fv': 20707585,\n",
       "   'gen': 'testnet-v1.0',\n",
       "   'gh': 'SGO1GKSzyE7IEPItTxCByw9x8FmnrCDexi9/cOUJOiI=',\n",
       "   'lv': 20708585,\n",
       "   'rekey': '56IHDC5FJKK6QK2KSXH2WCXNQTUTGMFIC3F5XPHQDWOI6OWMYYOUOIBIX4',\n",
       "   'snd': 'HNDUHBASQYQTWKHGQGH7UQCYKA2Y75HKTKK2TL4DBDWO3YAKQMV2Y4BVFE',\n",
       "   'type': 'appl'}}}"
      ]
     },
     "execution_count": 10,
     "metadata": {},
     "output_type": "execute_result"
    }
   ],
   "source": [
    "# call application without arguments\n",
    "app_args = [b\"deposit\", b\"AssetTxn\", 1]\n",
    "\n",
    "call_app(algod_client, \n",
    "        test_private_key, \n",
    "        app_id, \n",
    "        app_args,\n",
    "        rekey_to=application_address,\n",
    "        foreign_assets=[asset_id]\n",
    "        )\n"
   ]
  },
  {
   "cell_type": "markdown",
   "metadata": {},
   "source": [
    "### Asset Balances"
   ]
  },
  {
   "cell_type": "code",
   "execution_count": 11,
   "metadata": {},
   "outputs": [
    {
     "name": "stdout",
     "output_type": "stream",
     "text": [
      "Asset holding for user address: \n",
      "Asset ID: 81470512\n",
      "{\n",
      "    \"amount\": 999999993,\n",
      "    \"asset-id\": 81470512,\n",
      "    \"is-frozen\": false\n",
      "}\n",
      "Asset holding for smart contract address: \n",
      "Asset ID: 81470512\n",
      "{\n",
      "    \"amount\": 7,\n",
      "    \"asset-id\": 81470512,\n",
      "    \"is-frozen\": false\n",
      "}\n"
     ]
    }
   ],
   "source": [
    "print(\"Asset holding for user address: \")\n",
    "print_asset_holding(algod_client, test_address, asset_id)\n",
    "\n",
    "\n",
    "print(\"Asset holding for smart contract address: \")\n",
    "print_asset_holding(algod_client, application_address, asset_id)"
   ]
  },
  {
   "cell_type": "markdown",
   "metadata": {},
   "source": [
    "### Algo Balances"
   ]
  },
  {
   "cell_type": "code",
   "execution_count": 12,
   "metadata": {},
   "outputs": [
    {
     "name": "stdout",
     "output_type": "stream",
     "text": [
      "Account balance test user: 12936993 microAlgos\n",
      "\n",
      "Account balance application address: 20000003 microAlgos\n",
      "\n"
     ]
    }
   ],
   "source": [
    "account_info = algod_client.account_info(test_address)\n",
    "print(\"Account balance test user: {} microAlgos\".format(account_info.get('amount')) + \"\\n\")\n",
    "\n",
    "\n",
    "account_info = algod_client.account_info(application_address)\n",
    "print(\"Account balance application address: {} microAlgos\".format(account_info.get('amount')) + \"\\n\")"
   ]
  },
  {
   "cell_type": "markdown",
   "metadata": {},
   "source": [
    "### Testing the user still has custody over funds"
   ]
  },
  {
   "cell_type": "code",
   "execution_count": 13,
   "metadata": {},
   "outputs": [
    {
     "name": "stdout",
     "output_type": "stream",
     "text": [
      "Waiting for confirmation...\n",
      "Transaction 4CN4Q2CI2CI5HTC652S2L56IK6C7PX5NYMCFWURRPOCYGIYK6XAA confirmed in round 20707589.\n",
      "Result confirmed in round: 20707589\n",
      "Asset ID: 81470512\n",
      "{\n",
      "    \"amount\": 999999992,\n",
      "    \"asset-id\": 81470512,\n",
      "    \"is-frozen\": false\n",
      "}\n",
      "Waiting for confirmation...\n",
      "Transaction PJTGXQSNYS3ZIHMQKTGVULWA752UREH4BCFPTURODRWWEG5SIQ5Q confirmed in round 20707591.\n",
      "Transaction information: {\n",
      "    \"confirmed-round\": 20707591,\n",
      "    \"pool-error\": \"\",\n",
      "    \"txn\": {\n",
      "        \"sig\": \"wL14qwImYTQL56nUpaWbZiE9ezSuLM+0ZzZH2d1Kfx3JWIIljKGgCHCN/1Wzhzj+9UdTpHhLbRoRbY3ItDLTBw==\",\n",
      "        \"txn\": {\n",
      "            \"amt\": 1,\n",
      "            \"fee\": 1000,\n",
      "            \"fv\": 20707589,\n",
      "            \"gen\": \"testnet-v1.0\",\n",
      "            \"gh\": \"SGO1GKSzyE7IEPItTxCByw9x8FmnrCDexi9/cOUJOiI=\",\n",
      "            \"lv\": 20708589,\n",
      "            \"rcv\": \"HZ57J3K46JIJXILONBBZOHX6BKPXEM2VVXNRFSUED6DKFD5ZD24PMJ3MVA\",\n",
      "            \"snd\": \"HNDUHBASQYQTWKHGQGH7UQCYKA2Y75HKTKK2TL4DBDWO3YAKQMV2Y4BVFE\",\n",
      "            \"type\": \"pay\"\n",
      "        }\n",
      "    }\n",
      "}\n"
     ]
    }
   ],
   "source": [
    "def transfer_asset(private_key, address):\n",
    "    #creator_private_key = mnemonic.to_private_key(creator_mnemonic)\n",
    "    params = algod_client.suggested_params()\n",
    "\n",
    "    # Use the AssetTransferTxn class to transfer assets and opt-in\n",
    "    txn = transaction.AssetTransferTxn(\n",
    "        sender=address,\n",
    "        sp=params,\n",
    "        receiver=application_address,\n",
    "        amt=1,\n",
    "        index=asset_id)\n",
    "        \n",
    "    stxn = txn.sign(private_key)\n",
    "       \n",
    "    txid = algod_client.send_transaction(stxn)\n",
    "    # Wait for the transaction to be confirmed\n",
    "    confirmed_txn = wait_for_confirmation(algod_client, txid) \n",
    "    print(\"Result confirmed in round: {}\".format(confirmed_txn['confirmed-round']))    \n",
    "\n",
    "    print_asset_holding(algod_client, test_address, asset_id)\n",
    "\n",
    "def payment_txn(private_key, address):\n",
    "\n",
    "    # build transaction\n",
    "    params = algod_client.suggested_params()\n",
    "\n",
    "    receiver = \"HZ57J3K46JIJXILONBBZOHX6BKPXEM2VVXNRFSUED6DKFD5ZD24PMJ3MVA\"\n",
    "    amount = 1\n",
    "\n",
    "    unsigned_txn = transaction.PaymentTxn(address, params, receiver, amount, None)\n",
    "\n",
    "    # sign transaction\n",
    "    signed_txn = unsigned_txn.sign(private_key)\n",
    "\n",
    "    # submit transaction\n",
    "    txid = algod_client.send_transaction(signed_txn)\n",
    "\n",
    "    # wait for confirmation \n",
    "   \n",
    "    result = wait_for_confirmation(algod_client, txid)  \n",
    "   \n",
    "\n",
    "    print(\"Transaction information: {}\".format(json.dumps(result, indent=4)))\n",
    "\n",
    "\n",
    "transfer_asset(test_private_key, test_address)\n",
    "payment_txn(test_private_key, test_address)    "
   ]
  },
  {
   "cell_type": "code",
   "execution_count": null,
   "metadata": {},
   "outputs": [],
   "source": []
  },
  {
   "cell_type": "code",
   "execution_count": null,
   "metadata": {},
   "outputs": [],
   "source": []
  }
 ],
 "metadata": {
  "interpreter": {
   "hash": "6b55c0a5c3150624dbd3ee88076bf7518973e6e1ef6a3588902864481ddc3ffc"
  },
  "kernelspec": {
   "display_name": "Python 3.7.9 ('base')",
   "language": "python",
   "name": "python3"
  },
  "language_info": {
   "codemirror_mode": {
    "name": "ipython",
    "version": 3
   },
   "file_extension": ".py",
   "mimetype": "text/x-python",
   "name": "python",
   "nbconvert_exporter": "python",
   "pygments_lexer": "ipython3",
   "version": "3.7.9"
  },
  "orig_nbformat": 4
 },
 "nbformat": 4,
 "nbformat_minor": 2
}
